{
 "cells": [
  {
   "cell_type": "code",
   "execution_count": 1,
   "id": "5df08185",
   "metadata": {},
   "outputs": [],
   "source": [
    "# A new CSV file, named state_esti.csv, was created using the transaction data file.\n",
    "import pandas as pd\n",
    "import numpy as np\n",
    "tran_data=pd.read_csv(\"transaction_data.csv\")\n",
    "tran_data_new = tran_data[[\"household_key\",\"DAY\",\"COUPON_MATCH_DISC\"]]\n",
    "tran_data_new_1 = tran_data[[\"household_key\",\"DAY\",\"SALES_VALUE\"]]\n",
    "tran_data_new_2 = tran_data[[\"household_key\",\"DAY\",\"QUANTITY\"]]\n",
    "newdata_1=tran_data_new_1.to_numpy()\n",
    "newdata=tran_data_new.to_numpy()\n",
    "newdata_2=tran_data_new_2.to_numpy()\n"
   ]
  },
  {
   "cell_type": "code",
   "execution_count": 2,
   "id": "2140c7e6",
   "metadata": {},
   "outputs": [],
   "source": [
    "dct = {}\n",
    "for i in range(len(newdata_1)):\n",
    "    temp_tup = (newdata_1[i][0], newdata_1[i][1])\n",
    "\n",
    "    if temp_tup not in dct:\n",
    "        dct[temp_tup] = [newdata_1[i][2]]\n",
    "    else:\n",
    "        dct[temp_tup].append(newdata_1[i][2])\n",
    "\n",
    "ans = dict(sorted(dct.items()))\n"
   ]
  },
  {
   "cell_type": "code",
   "execution_count": 3,
   "id": "775161f2",
   "metadata": {},
   "outputs": [],
   "source": [
    "total_sell=[]\n",
    "for key,value in ans.items():\n",
    "    total_sell.append(int(sum(value)))"
   ]
  },
  {
   "cell_type": "code",
   "execution_count": 4,
   "id": "c5da4c88",
   "metadata": {},
   "outputs": [],
   "source": [
    "customer_purchase_day={}\n",
    "for k in range(len(newdata)):\n",
    "    tple=(newdata[k][0],newdata[k][1])\n",
    "    if tple not in customer_purchase_day:\n",
    "        customer_purchase_day[tple]=[newdata[k][2]]\n",
    "    else:\n",
    "        customer_purchase_day[tple].append(newdata[k][2])\n",
    "customer_purchase_day=dict(sorted(customer_purchase_day.items()))"
   ]
  },
  {
   "cell_type": "code",
   "execution_count": 5,
   "id": "e3fb4549",
   "metadata": {},
   "outputs": [],
   "source": [
    "is_coupon_redem=[]\n",
    "number_of_coupon_redem=[]\n",
    "coupon_redem=[]\n",
    "for key,value in customer_purchase_day.items():\n",
    "    non_zero_elements = [x for x in value if x != 0]\n",
    "    number_of_coupon_redem.append(len(non_zero_elements))\n",
    "    if sum(value)!=0:\n",
    "        is_coupon_redem.append(1)\n",
    "    else:\n",
    "        is_coupon_redem.append(0)\n",
    "    coupon_redem.append(-1*(sum(value)))\n",
    "        \n",
    "    "
   ]
  },
  {
   "cell_type": "code",
   "execution_count": 6,
   "id": "ee40592d",
   "metadata": {},
   "outputs": [],
   "source": [
    "sandick = {}\n",
    "for i in range(len(newdata_2)):\n",
    "    temp_tup = (newdata_2[i][0], newdata_2[i][1])\n",
    "\n",
    "    if temp_tup not in sandick:\n",
    "        sandick[temp_tup] = [newdata_2[i][2]]\n",
    "    else:\n",
    "        sandick[temp_tup].append(newdata_2[i][2])\n",
    "\n",
    "ans = dict(sorted(sandick.items()))\n"
   ]
  },
  {
   "cell_type": "code",
   "execution_count": 7,
   "id": "70326292",
   "metadata": {},
   "outputs": [],
   "source": [
    "number_of_product_sell=[]\n",
    "for key_2,value_2 in ans.items():\n",
    "    number_of_product_sell.append(sum(value_2))"
   ]
  },
  {
   "cell_type": "code",
   "execution_count": 8,
   "id": "e5081154",
   "metadata": {},
   "outputs": [],
   "source": [
    "household_key=[]\n",
    "tran_day=[]\n",
    "for key,value in customer_purchase_day.items():\n",
    "    tran_day.append(int(key[1]))\n",
    "    household_key.append(int(key[0]))"
   ]
  },
  {
   "cell_type": "code",
   "execution_count": 9,
   "id": "670707e9",
   "metadata": {},
   "outputs": [],
   "source": [
    "data={'household_key':household_key,'tran_day':tran_day,'is_coupon_redem':is_coupon_redem}\n",
    "dataset = pd.DataFrame(data)\n",
    "dataset[\"prev_tran_day\"]=dataset.groupby('household_key')[\"tran_day\"].shift(periods=1,fill_value=0)\n",
    "dataset[\"days_since_last_transaction\"]=np.where(dataset[\"prev_tran_day\"]!=0,dataset[\"tran_day\"]-dataset[\"prev_tran_day\"],0)\n",
    "dataset['average_number_of_days_between_transaction'] = dataset.groupby('household_key')['days_since_last_transaction'].rolling(window=200, min_periods=1).mean().reset_index(0, drop=True)\n",
    "dataset[\"future_tran_day\"]=dataset.groupby('household_key')[\"tran_day\"].shift(periods=-1,fill_value=0)\n",
    "dataset[\"number_of_coupon_redem\"]=number_of_coupon_redem\n"
   ]
  },
  {
   "cell_type": "code",
   "execution_count": 10,
   "id": "f44075dc",
   "metadata": {},
   "outputs": [],
   "source": [
    "dataset[\"average_number_of_days_between_transaction\"]=dataset[\"average_number_of_days_between_transaction\"].apply(np.int64)\n",
    "dataset[\"Coupan_redemtion_percentage_in_last_transaction\"]=dataset.groupby(\"household_key\")[\"is_coupon_redem\"].rolling(window=7, min_periods=1).mean().reset_index(0, drop=True)\n",
    "dataset=dataset.round({\"Coupan_redemtion_percentage_in_last_transaction\":2})\n",
    "dataset[\"tran_days_to_future_tran_day\"]=np.where(dataset[\"future_tran_day\"]!=0,dataset[\"future_tran_day\"]-dataset[\"tran_day\"],0)\n",
    "#dataset[\"purchase_with_in_one_week\"]=np.where(dataset[\"tran_days_to_future_tran_day\"]<=7,1,0)\n",
    "dataset[\"number_of_product\"]=number_of_product_sell\n",
    "dataset[\"average_number_of_product\"]=dataset.groupby(\"household_key\")[\"number_of_product\"].rolling(window=200, min_periods=1).mean().reset_index(0, drop=True)\n",
    "dataset[\"average_number_of_product\"]=dataset[\"average_number_of_product\"].apply(np.int64)\n",
    "dataset[\"tran_value\"]=total_sell\n",
    "dataset[\"coupon_redem\"]=coupon_redem\n",
    "dataset[\"CDP\"]=(dataset[\"coupon_redem\"]/dataset[\"tran_value\"])*100\n",
    "dataset = dataset.replace([np.inf, -np.inf,np.nan], 0)\n",
    "dataset['CDP'] = np.ceil(dataset['CDP'])\n",
    "# define the bins and labels\n",
    "bins = [-1,0,5,10,15,50]\n",
    "labels = [0,1,5,10,15]\n",
    "\n",
    "# replace the values in the column based on the given condition\n",
    "dataset['CDP'] = pd.cut(dataset['CDP'], bins=bins, labels=labels)\n",
    "\n",
    "dataset[\"average_tran_value\"]=dataset.groupby(\"household_key\")[\"tran_value\"].rolling(window=7, min_periods=1).mean().reset_index(0, drop=True)\n",
    "dataset[\"average_tran_value\"]=dataset[\"average_tran_value\"].apply(np.int64)\n",
    "#dataset[\"next_tran_value\"]=dataset.groupby('household_key')[\"tran_value\"].shift(periods=-1,fill_value=0)\n",
    "#dataset['match'] = dataset.household_key.eq(dataset.household_key.shift(-1))\n",
    "#dataset = dataset[dataset['match'] == True]\n",
    "dataset.to_csv(\"state_esti.csv\",index=False)\n"
   ]
  },
  {
   "cell_type": "code",
   "execution_count": 11,
   "id": "6d670d21",
   "metadata": {},
   "outputs": [],
   "source": [
    "# demographic_data=pd.read_csv(\"hh_demographic.csv\")\n",
    "# dataset = pd.merge(dataset,demographic_data,on=\"household_key\",how=\"left\")\n",
    "# encoded = pd.get_dummies(dataset[dataset.columns[dataset.dtypes==object]])\n",
    "# data_encoded = pd.concat([encoded, dataset[dataset.columns[dataset.dtypes != object]]],axis=1)\n",
    "# data_encoded.to_csv(\"data_processing.csv\",index=False)"
   ]
  },
  {
   "cell_type": "code",
   "execution_count": null,
   "id": "d0547e41",
   "metadata": {},
   "outputs": [],
   "source": []
  }
 ],
 "metadata": {
  "kernelspec": {
   "display_name": "Python 3 (ipykernel)",
   "language": "python",
   "name": "python3"
  },
  "language_info": {
   "codemirror_mode": {
    "name": "ipython",
    "version": 3
   },
   "file_extension": ".py",
   "mimetype": "text/x-python",
   "name": "python",
   "nbconvert_exporter": "python",
   "pygments_lexer": "ipython3",
   "version": "3.10.9"
  }
 },
 "nbformat": 4,
 "nbformat_minor": 5
}
