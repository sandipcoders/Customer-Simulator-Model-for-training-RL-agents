{
 "cells": [
  {
   "cell_type": "code",
   "execution_count": 1,
   "id": "23abb923",
   "metadata": {},
   "outputs": [],
   "source": [
    "import pandas as pd\n",
    "import numpy as np\n",
    "df_new=pd.read_csv(\"state_esti_2_new.csv\")\n",
    "df=pd.read_csv(\"new_state_1.csv\")"
   ]
  },
  {
   "cell_type": "code",
   "execution_count": 2,
   "id": "c44ad40f",
   "metadata": {},
   "outputs": [],
   "source": [
    "X=df\n",
    "y=df_new[\"curr_reward\"]"
   ]
  },
  {
   "cell_type": "code",
   "execution_count": 3,
   "id": "9bd26481",
   "metadata": {},
   "outputs": [],
   "source": [
    "from sklearn.model_selection import train_test_split\n",
    "X_train, X_test, y_train, y_test = train_test_split(X, y, test_size=0.7, random_state=0)\n",
    "X_val, X_test, y_val, y_test = train_test_split(X_test, y_test, test_size=0.5, random_state=0)\n",
    "X_train.to_csv('X_train.csv', index=False)\n",
    "X_test.to_csv('X_test.csv', index=False)\n",
    "y_train.to_csv('y_train.csv', index=False)\n",
    "y_test.to_csv('y_test.csv', index=False)\n",
    "X_val.to_csv('X_val.csv', index=False)\n",
    "y_val.to_csv('y_val.csv',index=False)\n",
    "X_train = pd.read_csv('X_train.csv')\n",
    "X_test = pd.read_csv('X_test.csv')\n",
    "y_train = pd.read_csv('y_train.csv')\n",
    "y_test = pd.read_csv('y_test.csv')\n",
    "X_val=pd.read_csv('X_val.csv')\n",
    "y_val=pd.read_csv('y_val.csv')"
   ]
  },
  {
   "cell_type": "code",
   "execution_count": 4,
   "id": "f5a3e44c",
   "metadata": {},
   "outputs": [
    {
     "name": "stdout",
     "output_type": "stream",
     "text": [
      "Metal device set to: Apple M1\n",
      "Epoch 1/100\n"
     ]
    },
    {
     "name": "stderr",
     "output_type": "stream",
     "text": [
      "2023-03-15 12:45:13.376982: I tensorflow/core/common_runtime/pluggable_device/pluggable_device_factory.cc:306] Could not identify NUMA node of platform GPU ID 0, defaulting to 0. Your kernel may not have been built with NUMA support.\n",
      "2023-03-15 12:45:13.377083: I tensorflow/core/common_runtime/pluggable_device/pluggable_device_factory.cc:272] Created TensorFlow device (/job:localhost/replica:0/task:0/device:GPU:0 with 0 MB memory) -> physical PluggableDevice (device: 0, name: METAL, pci bus id: <undefined>)\n",
      "2023-03-15 12:45:13.477139: W tensorflow/core/platform/profile_utils/cpu_utils.cc:128] Failed to get CPU frequency: 0 Hz\n",
      "2023-03-15 12:45:13.578618: I tensorflow/core/grappler/optimizers/custom_graph_optimizer_registry.cc:114] Plugin optimizer for device_type GPU is enabled.\n"
     ]
    },
    {
     "name": "stdout",
     "output_type": "stream",
     "text": [
      "548/553 [============================>.] - ETA: 0s - loss: 1.5291 - mae: 0.9446"
     ]
    },
    {
     "name": "stderr",
     "output_type": "stream",
     "text": [
      "2023-03-15 12:45:15.934262: I tensorflow/core/grappler/optimizers/custom_graph_optimizer_registry.cc:114] Plugin optimizer for device_type GPU is enabled.\n"
     ]
    },
    {
     "name": "stdout",
     "output_type": "stream",
     "text": [
      "553/553 [==============================] - 4s 7ms/step - loss: 1.5249 - mae: 0.9432 - val_loss: 1.0980 - val_mae: 0.8034\n",
      "Epoch 2/100\n",
      "553/553 [==============================] - 4s 7ms/step - loss: 0.8619 - mae: 0.7016 - val_loss: 0.6882 - val_mae: 0.6232\n",
      "Epoch 3/100\n",
      "553/553 [==============================] - 4s 7ms/step - loss: 0.6037 - mae: 0.5734 - val_loss: 0.5403 - val_mae: 0.5359\n",
      "Epoch 4/100\n",
      "553/553 [==============================] - 4s 7ms/step - loss: 0.5209 - mae: 0.5187 - val_loss: 0.4960 - val_mae: 0.5033\n",
      "Epoch 5/100\n",
      "553/553 [==============================] - 4s 6ms/step - loss: 0.4968 - mae: 0.5002 - val_loss: 0.4812 - val_mae: 0.4914\n",
      "Epoch 6/100\n",
      "553/553 [==============================] - 4s 7ms/step - loss: 0.4870 - mae: 0.4924 - val_loss: 0.4733 - val_mae: 0.4877\n",
      "Epoch 7/100\n",
      "553/553 [==============================] - 4s 7ms/step - loss: 0.4816 - mae: 0.4901 - val_loss: 0.4693 - val_mae: 0.4831\n",
      "Epoch 8/100\n",
      "553/553 [==============================] - 4s 7ms/step - loss: 0.4786 - mae: 0.4871 - val_loss: 0.4673 - val_mae: 0.4836\n",
      "Epoch 9/100\n",
      "553/553 [==============================] - 4s 7ms/step - loss: 0.4769 - mae: 0.4866 - val_loss: 0.4661 - val_mae: 0.4843\n",
      "Epoch 10/100\n",
      "553/553 [==============================] - 4s 6ms/step - loss: 0.4760 - mae: 0.4866 - val_loss: 0.4666 - val_mae: 0.4826\n",
      "Epoch 11/100\n",
      "553/553 [==============================] - 4s 7ms/step - loss: 0.4758 - mae: 0.4861 - val_loss: 0.4655 - val_mae: 0.4814\n",
      "Epoch 12/100\n",
      "553/553 [==============================] - 4s 7ms/step - loss: 0.4756 - mae: 0.4855 - val_loss: 0.4659 - val_mae: 0.4835\n",
      "Epoch 13/100\n",
      "553/553 [==============================] - 4s 7ms/step - loss: 0.4755 - mae: 0.4862 - val_loss: 0.4655 - val_mae: 0.4817\n",
      "Epoch 14/100\n",
      "553/553 [==============================] - 4s 7ms/step - loss: 0.4754 - mae: 0.4858 - val_loss: 0.4654 - val_mae: 0.4822\n",
      "Epoch 15/100\n",
      "553/553 [==============================] - 4s 7ms/step - loss: 0.4755 - mae: 0.4857 - val_loss: 0.4655 - val_mae: 0.4833\n",
      "Epoch 16/100\n",
      "553/553 [==============================] - 4s 8ms/step - loss: 0.4755 - mae: 0.4861 - val_loss: 0.4660 - val_mae: 0.4824\n",
      "Epoch 17/100\n",
      "553/553 [==============================] - 4s 7ms/step - loss: 0.4756 - mae: 0.4858 - val_loss: 0.4658 - val_mae: 0.4827\n",
      "Epoch 18/100\n",
      "553/553 [==============================] - 4s 7ms/step - loss: 0.4756 - mae: 0.4860 - val_loss: 0.4660 - val_mae: 0.4819\n",
      "Epoch 19/100\n",
      "553/553 [==============================] - 4s 6ms/step - loss: 0.4755 - mae: 0.4856 - val_loss: 0.4655 - val_mae: 0.4831\n",
      "Epoch 20/100\n",
      "553/553 [==============================] - 4s 7ms/step - loss: 0.4754 - mae: 0.4853 - val_loss: 0.4655 - val_mae: 0.4845\n",
      "Epoch 21/100\n",
      "553/553 [==============================] - 4s 6ms/step - loss: 0.4755 - mae: 0.4863 - val_loss: 0.4662 - val_mae: 0.4832\n",
      "Epoch 22/100\n",
      "553/553 [==============================] - 4s 7ms/step - loss: 0.4755 - mae: 0.4859 - val_loss: 0.4661 - val_mae: 0.4822\n",
      "Epoch 23/100\n",
      "553/553 [==============================] - 4s 7ms/step - loss: 0.4755 - mae: 0.4856 - val_loss: 0.4658 - val_mae: 0.4834\n",
      "Epoch 24/100\n",
      "553/553 [==============================] - 4s 7ms/step - loss: 0.4754 - mae: 0.4858 - val_loss: 0.4657 - val_mae: 0.4830\n",
      "Epoch 25/100\n",
      "553/553 [==============================] - 4s 7ms/step - loss: 0.4754 - mae: 0.4859 - val_loss: 0.4660 - val_mae: 0.4830\n",
      "Epoch 26/100\n",
      "553/553 [==============================] - 4s 7ms/step - loss: 0.4755 - mae: 0.4858 - val_loss: 0.4663 - val_mae: 0.4837\n",
      "Epoch 27/100\n",
      "553/553 [==============================] - 4s 7ms/step - loss: 0.4755 - mae: 0.4857 - val_loss: 0.4656 - val_mae: 0.4830\n",
      "Epoch 28/100\n",
      "553/553 [==============================] - 4s 6ms/step - loss: 0.4755 - mae: 0.4864 - val_loss: 0.4658 - val_mae: 0.4816\n",
      "Epoch 29/100\n",
      "553/553 [==============================] - 4s 6ms/step - loss: 0.4755 - mae: 0.4857 - val_loss: 0.4655 - val_mae: 0.4825\n",
      "Epoch 30/100\n",
      "553/553 [==============================] - 4s 7ms/step - loss: 0.4754 - mae: 0.4856 - val_loss: 0.4659 - val_mae: 0.4824\n",
      "Epoch 31/100\n",
      "553/553 [==============================] - 4s 7ms/step - loss: 0.4755 - mae: 0.4855 - val_loss: 0.4663 - val_mae: 0.4841\n",
      "Epoch 32/100\n",
      "553/553 [==============================] - 4s 7ms/step - loss: 0.4755 - mae: 0.4865 - val_loss: 0.4657 - val_mae: 0.4819\n",
      "Epoch 33/100\n",
      "553/553 [==============================] - 4s 7ms/step - loss: 0.4755 - mae: 0.4862 - val_loss: 0.4661 - val_mae: 0.4810\n",
      "Epoch 34/100\n",
      "553/553 [==============================] - 4s 7ms/step - loss: 0.4756 - mae: 0.4854 - val_loss: 0.4656 - val_mae: 0.4822\n",
      "Epoch 35/100\n",
      "553/553 [==============================] - 4s 7ms/step - loss: 0.4755 - mae: 0.4856 - val_loss: 0.4659 - val_mae: 0.4835\n",
      "Epoch 36/100\n",
      "553/553 [==============================] - 4s 7ms/step - loss: 0.4756 - mae: 0.4859 - val_loss: 0.4660 - val_mae: 0.4835\n",
      "Epoch 37/100\n",
      "553/553 [==============================] - 4s 7ms/step - loss: 0.4755 - mae: 0.4855 - val_loss: 0.4656 - val_mae: 0.4844\n",
      "Epoch 38/100\n",
      "553/553 [==============================] - 4s 7ms/step - loss: 0.4755 - mae: 0.4865 - val_loss: 0.4657 - val_mae: 0.4820\n",
      "Epoch 39/100\n",
      "553/553 [==============================] - 4s 7ms/step - loss: 0.4754 - mae: 0.4856 - val_loss: 0.4657 - val_mae: 0.4831\n",
      "Epoch 40/100\n",
      "553/553 [==============================] - 4s 7ms/step - loss: 0.4753 - mae: 0.4859 - val_loss: 0.4663 - val_mae: 0.4820\n",
      "Epoch 41/100\n",
      "553/553 [==============================] - 4s 7ms/step - loss: 0.4754 - mae: 0.4856 - val_loss: 0.4655 - val_mae: 0.4829\n",
      "Epoch 42/100\n",
      "553/553 [==============================] - 4s 7ms/step - loss: 0.4755 - mae: 0.4856 - val_loss: 0.4658 - val_mae: 0.4842\n",
      "Epoch 43/100\n",
      "553/553 [==============================] - 4s 7ms/step - loss: 0.4755 - mae: 0.4862 - val_loss: 0.4657 - val_mae: 0.4828\n",
      "Epoch 44/100\n",
      "553/553 [==============================] - 4s 7ms/step - loss: 0.4754 - mae: 0.4855 - val_loss: 0.4659 - val_mae: 0.4840\n",
      "Epoch 45/100\n",
      "553/553 [==============================] - 4s 7ms/step - loss: 0.4754 - mae: 0.4858 - val_loss: 0.4666 - val_mae: 0.4850\n",
      "Epoch 46/100\n",
      "553/553 [==============================] - 4s 7ms/step - loss: 0.4755 - mae: 0.4861 - val_loss: 0.4657 - val_mae: 0.4833\n",
      "Epoch 47/100\n",
      "553/553 [==============================] - 4s 7ms/step - loss: 0.4754 - mae: 0.4857 - val_loss: 0.4657 - val_mae: 0.4837\n",
      "Epoch 48/100\n",
      "553/553 [==============================] - 4s 7ms/step - loss: 0.4757 - mae: 0.4858 - val_loss: 0.4658 - val_mae: 0.4831\n",
      "Epoch 49/100\n",
      "553/553 [==============================] - 4s 7ms/step - loss: 0.4754 - mae: 0.4862 - val_loss: 0.4658 - val_mae: 0.4830\n",
      "Epoch 50/100\n",
      "553/553 [==============================] - 4s 7ms/step - loss: 0.4755 - mae: 0.4860 - val_loss: 0.4657 - val_mae: 0.4827\n",
      "Epoch 51/100\n",
      "553/553 [==============================] - 4s 7ms/step - loss: 0.4754 - mae: 0.4854 - val_loss: 0.4663 - val_mae: 0.4845\n",
      "Epoch 52/100\n",
      "553/553 [==============================] - 4s 7ms/step - loss: 0.4755 - mae: 0.4863 - val_loss: 0.4657 - val_mae: 0.4828\n",
      "Epoch 53/100\n",
      "553/553 [==============================] - 4s 7ms/step - loss: 0.4755 - mae: 0.4857 - val_loss: 0.4656 - val_mae: 0.4832\n",
      "Epoch 54/100\n",
      "553/553 [==============================] - 4s 7ms/step - loss: 0.4754 - mae: 0.4857 - val_loss: 0.4659 - val_mae: 0.4829\n",
      "Epoch 55/100\n",
      "553/553 [==============================] - 4s 7ms/step - loss: 0.4755 - mae: 0.4856 - val_loss: 0.4657 - val_mae: 0.4840\n",
      "Epoch 56/100\n",
      "553/553 [==============================] - 4s 7ms/step - loss: 0.4754 - mae: 0.4863 - val_loss: 0.4662 - val_mae: 0.4824\n",
      "Epoch 57/100\n",
      "553/553 [==============================] - 4s 7ms/step - loss: 0.4755 - mae: 0.4859 - val_loss: 0.4661 - val_mae: 0.4827\n",
      "Epoch 58/100\n",
      "553/553 [==============================] - 4s 7ms/step - loss: 0.4756 - mae: 0.4856 - val_loss: 0.4662 - val_mae: 0.4835\n",
      "Epoch 59/100\n",
      "553/553 [==============================] - 4s 7ms/step - loss: 0.4754 - mae: 0.4855 - val_loss: 0.4659 - val_mae: 0.4850\n",
      "Epoch 60/100\n",
      "553/553 [==============================] - 4s 7ms/step - loss: 0.4756 - mae: 0.4862 - val_loss: 0.4660 - val_mae: 0.4833\n",
      "Epoch 61/100\n",
      "553/553 [==============================] - 4s 7ms/step - loss: 0.4753 - mae: 0.4861 - val_loss: 0.4657 - val_mae: 0.4828\n",
      "Epoch 62/100\n"
     ]
    },
    {
     "name": "stdout",
     "output_type": "stream",
     "text": [
      "553/553 [==============================] - 4s 7ms/step - loss: 0.4754 - mae: 0.4852 - val_loss: 0.4660 - val_mae: 0.4849\n",
      "Epoch 63/100\n",
      "553/553 [==============================] - 4s 7ms/step - loss: 0.4755 - mae: 0.4861 - val_loss: 0.4656 - val_mae: 0.4832\n",
      "Epoch 64/100\n",
      "553/553 [==============================] - 4s 7ms/step - loss: 0.4755 - mae: 0.4860 - val_loss: 0.4659 - val_mae: 0.4831\n",
      "Epoch 65/100\n",
      "553/553 [==============================] - 4s 7ms/step - loss: 0.4753 - mae: 0.4860 - val_loss: 0.4663 - val_mae: 0.4819\n",
      "Epoch 66/100\n",
      "553/553 [==============================] - 4s 7ms/step - loss: 0.4756 - mae: 0.4860 - val_loss: 0.4660 - val_mae: 0.4816\n",
      "Epoch 67/100\n",
      "553/553 [==============================] - 4s 7ms/step - loss: 0.4755 - mae: 0.4857 - val_loss: 0.4656 - val_mae: 0.4827\n",
      "Epoch 68/100\n",
      "553/553 [==============================] - 4s 7ms/step - loss: 0.4756 - mae: 0.4860 - val_loss: 0.4658 - val_mae: 0.4815\n",
      "Epoch 69/100\n",
      "553/553 [==============================] - 4s 7ms/step - loss: 0.4753 - mae: 0.4853 - val_loss: 0.4663 - val_mae: 0.4843\n",
      "Epoch 70/100\n",
      "553/553 [==============================] - 4s 7ms/step - loss: 0.4755 - mae: 0.4862 - val_loss: 0.4656 - val_mae: 0.4827\n",
      "Epoch 71/100\n",
      "553/553 [==============================] - 4s 7ms/step - loss: 0.4755 - mae: 0.4859 - val_loss: 0.4656 - val_mae: 0.4823\n",
      "Epoch 72/100\n",
      "553/553 [==============================] - 4s 7ms/step - loss: 0.4755 - mae: 0.4856 - val_loss: 0.4659 - val_mae: 0.4825\n",
      "Epoch 73/100\n",
      "553/553 [==============================] - 4s 7ms/step - loss: 0.4755 - mae: 0.4858 - val_loss: 0.4661 - val_mae: 0.4832\n",
      "Epoch 74/100\n",
      "553/553 [==============================] - 4s 7ms/step - loss: 0.4754 - mae: 0.4856 - val_loss: 0.4663 - val_mae: 0.4836\n",
      "Epoch 75/100\n",
      "553/553 [==============================] - 4s 7ms/step - loss: 0.4755 - mae: 0.4854 - val_loss: 0.4665 - val_mae: 0.4853\n",
      "Epoch 76/100\n",
      "553/553 [==============================] - 4s 7ms/step - loss: 0.4757 - mae: 0.4865 - val_loss: 0.4657 - val_mae: 0.4823\n",
      "Epoch 77/100\n",
      "553/553 [==============================] - 4s 7ms/step - loss: 0.4754 - mae: 0.4852 - val_loss: 0.4661 - val_mae: 0.4851\n",
      "Epoch 78/100\n",
      "553/553 [==============================] - 4s 7ms/step - loss: 0.4756 - mae: 0.4862 - val_loss: 0.4659 - val_mae: 0.4835\n",
      "Epoch 79/100\n",
      "553/553 [==============================] - 4s 7ms/step - loss: 0.4754 - mae: 0.4858 - val_loss: 0.4660 - val_mae: 0.4833\n",
      "Epoch 80/100\n",
      "553/553 [==============================] - 4s 7ms/step - loss: 0.4755 - mae: 0.4860 - val_loss: 0.4655 - val_mae: 0.4832\n",
      "Epoch 81/100\n",
      "553/553 [==============================] - 4s 7ms/step - loss: 0.4755 - mae: 0.4857 - val_loss: 0.4657 - val_mae: 0.4839\n",
      "Epoch 82/100\n",
      "553/553 [==============================] - 4s 7ms/step - loss: 0.4756 - mae: 0.4859 - val_loss: 0.4656 - val_mae: 0.4837\n",
      "Epoch 83/100\n",
      "553/553 [==============================] - 4s 7ms/step - loss: 0.4753 - mae: 0.4870 - val_loss: 0.4657 - val_mae: 0.4805\n",
      "Epoch 84/100\n",
      "553/553 [==============================] - 4s 7ms/step - loss: 0.4754 - mae: 0.4851 - val_loss: 0.4656 - val_mae: 0.4838\n",
      "Epoch 85/100\n",
      "553/553 [==============================] - 4s 7ms/step - loss: 0.4755 - mae: 0.4863 - val_loss: 0.4655 - val_mae: 0.4817\n",
      "Epoch 86/100\n",
      "553/553 [==============================] - 4s 7ms/step - loss: 0.4754 - mae: 0.4854 - val_loss: 0.4658 - val_mae: 0.4830\n",
      "Epoch 87/100\n",
      "553/553 [==============================] - 4s 7ms/step - loss: 0.4755 - mae: 0.4856 - val_loss: 0.4662 - val_mae: 0.4837\n",
      "Epoch 88/100\n",
      "553/553 [==============================] - 4s 7ms/step - loss: 0.4754 - mae: 0.4863 - val_loss: 0.4656 - val_mae: 0.4824\n",
      "Epoch 89/100\n",
      "553/553 [==============================] - 4s 7ms/step - loss: 0.4756 - mae: 0.4856 - val_loss: 0.4657 - val_mae: 0.4826\n",
      "Epoch 90/100\n",
      "553/553 [==============================] - 4s 7ms/step - loss: 0.4754 - mae: 0.4856 - val_loss: 0.4660 - val_mae: 0.4849\n",
      "Epoch 91/100\n",
      "553/553 [==============================] - 4s 7ms/step - loss: 0.4755 - mae: 0.4863 - val_loss: 0.4657 - val_mae: 0.4821\n",
      "Epoch 92/100\n",
      "553/553 [==============================] - 4s 7ms/step - loss: 0.4755 - mae: 0.4859 - val_loss: 0.4659 - val_mae: 0.4814\n",
      "Epoch 93/100\n",
      "553/553 [==============================] - 4s 7ms/step - loss: 0.4754 - mae: 0.4859 - val_loss: 0.4654 - val_mae: 0.4817\n",
      "Epoch 94/100\n",
      "553/553 [==============================] - 4s 7ms/step - loss: 0.4755 - mae: 0.4852 - val_loss: 0.4660 - val_mae: 0.4839\n",
      "Epoch 95/100\n",
      "553/553 [==============================] - 4s 7ms/step - loss: 0.4756 - mae: 0.4857 - val_loss: 0.4662 - val_mae: 0.4847\n",
      "Epoch 96/100\n",
      "553/553 [==============================] - 4s 7ms/step - loss: 0.4753 - mae: 0.4862 - val_loss: 0.4661 - val_mae: 0.4827\n",
      "Epoch 97/100\n",
      "553/553 [==============================] - 4s 7ms/step - loss: 0.4756 - mae: 0.4863 - val_loss: 0.4656 - val_mae: 0.4812\n",
      "Epoch 98/100\n",
      "553/553 [==============================] - 4s 7ms/step - loss: 0.4755 - mae: 0.4857 - val_loss: 0.4658 - val_mae: 0.4817\n",
      "Epoch 99/100\n",
      "553/553 [==============================] - 4s 7ms/step - loss: 0.4755 - mae: 0.4857 - val_loss: 0.4658 - val_mae: 0.4823\n",
      "Epoch 100/100\n",
      "553/553 [==============================] - 4s 7ms/step - loss: 0.4755 - mae: 0.4855 - val_loss: 0.4655 - val_mae: 0.4832\n"
     ]
    }
   ],
   "source": [
    "from tensorflow.keras.models import Sequential\n",
    "from tensorflow.keras.layers import Dense, LeakyReLU,Activation\n",
    "model = Sequential()\n",
    "n_features = X.shape[1]\n",
    "model.add(Dense(1, input_dim=n_features, activation='linear'))\n",
    "model.compile(loss='mean_squared_error', optimizer='adam', metrics=['mae'])\n",
    "# Train the model with input and output data\n",
    "history=model.fit(X_train, y_train, epochs=100, batch_size=32,validation_data=(X_val, y_val))"
   ]
  },
  {
   "cell_type": "code",
   "execution_count": 5,
   "id": "9d2fc086",
   "metadata": {},
   "outputs": [],
   "source": [
    "from tensorflow.keras.models import save_model\n",
    "save_model(model, 'model_reward.h5')"
   ]
  },
  {
   "cell_type": "code",
   "execution_count": 6,
   "id": "d20c5630",
   "metadata": {},
   "outputs": [
    {
     "name": "stdout",
     "output_type": "stream",
     "text": [
      "645/645 [==============================] - 2s 3ms/step - loss: 0.4631 - mae: 0.4813\n"
     ]
    }
   ],
   "source": [
    "mse, mae = model.evaluate(X_test, y_test)"
   ]
  },
  {
   "cell_type": "code",
   "execution_count": 7,
   "id": "b8d4df8c",
   "metadata": {},
   "outputs": [
    {
     "name": "stdout",
     "output_type": "stream",
     "text": [
      "130/645 [=====>........................] - ETA: 0s"
     ]
    },
    {
     "name": "stderr",
     "output_type": "stream",
     "text": [
      "2023-03-15 12:51:38.475194: I tensorflow/core/grappler/optimizers/custom_graph_optimizer_registry.cc:114] Plugin optimizer for device_type GPU is enabled.\n"
     ]
    },
    {
     "name": "stdout",
     "output_type": "stream",
     "text": [
      "645/645 [==============================] - 1s 1ms/step\n"
     ]
    }
   ],
   "source": [
    "y_pred=model.predict(X_test)"
   ]
  },
  {
   "cell_type": "code",
   "execution_count": 8,
   "id": "640fd0b7",
   "metadata": {},
   "outputs": [
    {
     "name": "stdout",
     "output_type": "stream",
     "text": [
      "R2 value: 0.5319292971855425\n"
     ]
    }
   ],
   "source": [
    "import numpy as np\n",
    "from sklearn.metrics import r2_score\n",
    "r2 = r2_score(y_test, y_pred)\n",
    "print('R2 value:', r2)\n"
   ]
  },
  {
   "cell_type": "code",
   "execution_count": 9,
   "id": "6f7f1c54",
   "metadata": {},
   "outputs": [
    {
     "name": "stdout",
     "output_type": "stream",
     "text": [
      "0.5318158475023744\n"
     ]
    }
   ],
   "source": [
    "def adjusted_r_squared(y_test, y_pred, n, k):\n",
    "    r_squared = r2_score(y_test, y_pred)\n",
    "    return 1 - ((1 - r_squared) * (n - 1)) / (n - k - 1)\n",
    "n = len(y_test)\n",
    "k = 5\n",
    "adj_r_squared = adjusted_r_squared(y_test, y_pred, n, k)\n",
    "print(adj_r_squared)\n",
    "\n"
   ]
  },
  {
   "cell_type": "code",
   "execution_count": 10,
   "id": "6c38bb3d",
   "metadata": {},
   "outputs": [
    {
     "data": {
      "image/png": "[encoded data removed]",
      "text/plain": [
       "<Figure size 640x480 with 1 Axes>"
      ]
     },
     "metadata": {},
     "output_type": "display_data"
    }
   ],
   "source": [
    "# Plot the training and validation loss\n",
    "import matplotlib.pyplot as plt\n",
    "\n",
    "plt.plot(history.history['loss'], label='Training Loss')\n",
    "plt.plot(history.history['val_loss'], label='Validation Loss')\n",
    "plt.xlabel('Epochs')\n",
    "plt.ylabel('Loss')\n",
    "plt.legend()\n",
    "plt.show()"
   ]
  },
  {
   "cell_type": "code",
   "execution_count": null,
   "id": "627bb4f5",
   "metadata": {},
   "outputs": [],
   "source": []
  }
 ],
 "metadata": {
  "kernelspec": {
   "display_name": "Python 3.9 (tensorflow)",
   "language": "python",
   "name": "tensorflow"
  },
  "language_info": {
   "codemirror_mode": {
    "name": "ipython",
    "version": 3
   },
   "file_extension": ".py",
   "mimetype": "text/x-python",
   "name": "python",
   "nbconvert_exporter": "python",
   "pygments_lexer": "ipython3",
   "version": "3.9.13"
  }
 },
 "nbformat": 4,
 "nbformat_minor": 5
}
