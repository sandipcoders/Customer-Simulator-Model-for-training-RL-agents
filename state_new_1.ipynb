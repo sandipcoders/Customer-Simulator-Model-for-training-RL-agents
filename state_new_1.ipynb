{
 "cells": [
  {
   "cell_type": "code",
   "execution_count": 1,
   "id": "cfc1e9db",
   "metadata": {},
   "outputs": [],
   "source": [
    "import pandas as pd\n",
    "df=pd.read_csv(\"state_esti.csv\")"
   ]
  },
  {
   "cell_type": "code",
   "execution_count": 2,
   "id": "dda6846a",
   "metadata": {},
   "outputs": [],
   "source": [
    "df=df[[\"household_key\",\"number_of_product\",\"number_of_coupon_redem\"\n",
    "       ,\"Coupan_redemtion_percentage_in_last_transaction\",\"tran_value\"\n",
    "       ,\"CDP\",\"days_since_last_transaction\"]]\n"
   ]
  },
  {
   "cell_type": "code",
   "execution_count": 3,
   "id": "8b8cc513",
   "metadata": {},
   "outputs": [],
   "source": [
    "# rolling window\n",
    "df_new = pd.DataFrame()\n",
    "df_new[\"household_key\"]=df[\"household_key\"]\n",
    "df_new[\"number_of_product\"]=df[\"number_of_product\"]\n",
    "df_new[\"rolling_number_of_product\"]=df.groupby(\"household_key\")[\"number_of_product\"].rolling(window=7, min_periods=1).mean().reset_index(0, drop=True)\n",
    "df_new[\"number_of_coupon_redem\"]=df[\"number_of_coupon_redem\"]\n",
    "df_new[\"rolling_number_of_coupon_redem\"]=df.groupby(\"household_key\")[\"number_of_coupon_redem\"].rolling(window=7, min_periods=1).mean().reset_index(0, drop=True)\n",
    "df_new[\"tran_value\"]=df[\"tran_value\"]\n",
    "df_new[\"rolling_3_tran_value\"]=df.groupby(\"household_key\")[\"tran_value\"].rolling(window=3, min_periods=1).mean().reset_index(0, drop=True)\n",
    "df_new[\"rolling_tran_value\"]=df.groupby(\"household_key\")[\"tran_value\"].rolling(window=7, min_periods=1).mean().reset_index(0, drop=True)\n",
    "df_new[\"Coupan_redemtion_percentage_in_last_transaction\"]=df[\"Coupan_redemtion_percentage_in_last_transaction\"]"
   ]
  },
  {
   "cell_type": "code",
   "execution_count": 4,
   "id": "de8266fe",
   "metadata": {},
   "outputs": [],
   "source": [
    "df_new[\"CDP\"]=df[\"CDP\"]\n",
    "df_new[\"curr_CDP\"]=df.groupby('household_key')[\"CDP\"].shift(periods=-1,fill_value=0)\n",
    "df_new[\"reward\"]=df_new[\"rolling_3_tran_value\"]\n",
    "df_new[\"curr_reward\"]=df_new.groupby('household_key')[\"reward\"].shift(periods=-1,fill_value=0)\n"
   ]
  },
  {
   "cell_type": "code",
   "execution_count": 5,
   "id": "1b8c9b8e",
   "metadata": {},
   "outputs": [],
   "source": [
    "df_new[\"next_number_of_product\"]=df_new.groupby('household_key')[\"rolling_number_of_product\"].shift(periods=-1,fill_value=0)\n",
    "df_new[\"next_tran_value\"]=df_new.groupby('household_key')[\"rolling_tran_value\"].shift(periods=-1,fill_value=0)\n",
    "df_new[\"next_number_of_coupon_redem\"]=df_new.groupby('household_key')[\"rolling_number_of_coupon_redem\"].shift(periods=-1,fill_value=0)\n",
    "df_new[\"next_Coupan_redemtion_percentage\"]=df.groupby('household_key')[\"Coupan_redemtion_percentage_in_last_transaction\"].shift(periods=-1,fill_value=0)\n"
   ]
  },
  {
   "cell_type": "code",
   "execution_count": 6,
   "id": "9f65bd15",
   "metadata": {},
   "outputs": [],
   "source": [
    "df_new['match'] =df_new.household_key.eq(df_new.household_key.shift(-1))\n",
    "df_new= df_new[df_new['match'] == True]\n",
    "df_new.to_csv(\"state_new_1.csv\",index=False)\n"
   ]
  },
  {
   "cell_type": "code",
   "execution_count": null,
   "id": "46ea835d",
   "metadata": {},
   "outputs": [],
   "source": []
  }
 ],
 "metadata": {
  "kernelspec": {
   "display_name": "Python 3.9 (tensorflow)",
   "language": "python",
   "name": "tensorflow"
  },
  "language_info": {
   "codemirror_mode": {
    "name": "ipython",
    "version": 3
   },
   "file_extension": ".py",
   "mimetype": "text/x-python",
   "name": "python",
   "nbconvert_exporter": "python",
   "pygments_lexer": "ipython3",
   "version": "3.9.13"
  }
 },
 "nbformat": 4,
 "nbformat_minor": 5
}
