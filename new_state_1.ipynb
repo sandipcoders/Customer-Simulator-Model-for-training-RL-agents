{
 "cells": [
  {
   "cell_type": "code",
   "execution_count": 1,
   "id": "c3f6b3e3",
   "metadata": {},
   "outputs": [
    {
     "name": "stdout",
     "output_type": "stream",
     "text": [
      "Metal device set to: Apple M1\n"
     ]
    },
    {
     "name": "stderr",
     "output_type": "stream",
     "text": [
      "2023-03-15 22:36:39.387569: I tensorflow/core/common_runtime/pluggable_device/pluggable_device_factory.cc:306] Could not identify NUMA node of platform GPU ID 0, defaulting to 0. Your kernel may not have been built with NUMA support.\n",
      "2023-03-15 22:36:39.387921: I tensorflow/core/common_runtime/pluggable_device/pluggable_device_factory.cc:272] Created TensorFlow device (/job:localhost/replica:0/task:0/device:GPU:0 with 0 MB memory) -> physical PluggableDevice (device: 0, name: METAL, pci bus id: <undefined>)\n"
     ]
    }
   ],
   "source": [
    "# Load the trained neural network\n",
    "from tensorflow.keras.models import load_model\n",
    "model = load_model('model.h5')"
   ]
  },
  {
   "cell_type": "code",
   "execution_count": 2,
   "id": "ef228c98",
   "metadata": {},
   "outputs": [],
   "source": [
    "import pandas as pd\n",
    "df_new=pd.read_csv(\"state_esti_2_new.csv\")"
   ]
  },
  {
   "cell_type": "code",
   "execution_count": 3,
   "id": "30d67c82",
   "metadata": {},
   "outputs": [],
   "source": [
    "X=df_new[[\"rolling_number_of_product\",\"rolling_number_of_coupon_redem\",\"rolling_tran_value\"\n",
    "          ,\"Coupan_redemtion_percentage_in_last_transaction\",\"curr_CDP\"]]"
   ]
  },
  {
   "cell_type": "code",
   "execution_count": 4,
   "id": "3a44e665",
   "metadata": {},
   "outputs": [
    {
     "name": "stdout",
     "output_type": "stream",
     "text": [
      "  33/1843 [..............................] - ETA: 2s  "
     ]
    },
    {
     "name": "stderr",
     "output_type": "stream",
     "text": [
      "2023-03-15 22:36:39.681344: W tensorflow/tsl/platform/profile_utils/cpu_utils.cc:128] Failed to get CPU frequency: 0 Hz\n",
      "2023-03-15 22:36:39.793193: I tensorflow/core/grappler/optimizers/custom_graph_optimizer_registry.cc:114] Plugin optimizer for device_type GPU is enabled.\n"
     ]
    },
    {
     "name": "stdout",
     "output_type": "stream",
     "text": [
      "1843/1843 [==============================] - 3s 2ms/step\n"
     ]
    }
   ],
   "source": [
    "X_prime=model.predict(X)"
   ]
  },
  {
   "cell_type": "code",
   "execution_count": 5,
   "id": "e2af5f9f",
   "metadata": {},
   "outputs": [],
   "source": [
    "X_prime=pd.DataFrame(X_prime)\n",
    "X_prime.to_csv(\"new_state_1.csv\",index=False)"
   ]
  },
  {
   "cell_type": "code",
   "execution_count": null,
   "id": "44b77464",
   "metadata": {},
   "outputs": [],
   "source": []
  }
 ],
 "metadata": {
  "kernelspec": {
   "display_name": "Python 3 (ipykernel)",
   "language": "python",
   "name": "python3"
  },
  "language_info": {
   "codemirror_mode": {
    "name": "ipython",
    "version": 3
   },
   "file_extension": ".py",
   "mimetype": "text/x-python",
   "name": "python",
   "nbconvert_exporter": "python",
   "pygments_lexer": "ipython3",
   "version": "3.10.9"
  }
 },
 "nbformat": 4,
 "nbformat_minor": 5
}
